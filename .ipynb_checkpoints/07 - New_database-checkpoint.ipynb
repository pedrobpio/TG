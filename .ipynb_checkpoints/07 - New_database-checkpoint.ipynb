{
 "cells": [
  {
   "cell_type": "code",
   "execution_count": 1,
   "metadata": {},
   "outputs": [],
   "source": [
    "# importa, seta configuracao, le arquivo e tira colunas 'unnamed'\n",
    "import pandas as pd\n",
    "import numpy as np\n",
    "import matplotlib.pyplot as plt\n",
    "from sklearn import preprocessing\n",
    "import seaborn as sns\n",
    "\n",
    "pd.set_option('display.max_rows', 500)\n",
    "pd.set_option('display.max_columns', 500)\n",
    "pd.set_option('display.width', 1000)\n",
    "\n",
    "df = pd.read_csv('dados_filtrados_v4.csv')"
   ]
  },
  {
   "cell_type": "code",
   "execution_count": 2,
   "metadata": {},
   "outputs": [],
   "source": [
    "alunos = df[\"ID Aluno\"].unique()\n",
    "disciplinas = df['Código da disciplina'].unique()\n",
    "# myColumns = [\"curso\", \"saiu\", \"Cotista\", \"Raça\", \"Sexo\", \"Tipo de Escola\"] + list(disciplinas)\n",
    "newDf = pd.DataFrame(columns=disciplinas, index=alunos)\n",
    "newDf[newDf.columns] = 0"
   ]
  },
  {
   "cell_type": "code",
   "execution_count": 3,
   "metadata": {},
   "outputs": [],
   "source": [
    "df = df[['Código da disciplina', 'ID Aluno']]"
   ]
  },
  {
   "cell_type": "code",
   "execution_count": 4,
   "metadata": {},
   "outputs": [],
   "source": [
    "for a in alunos:\n",
    "    dis = df[df['ID Aluno'] == a]\n",
    "    for d in dis['Código da disciplina']:\n",
    "        newDf.at[a, d] +=1"
   ]
  },
  {
   "cell_type": "code",
   "execution_count": 5,
   "metadata": {},
   "outputs": [],
   "source": [
    "newDf[\"curso\"] = 0\n",
    "newDf[\"saiu\"] = 0\n",
    "newDf[\"Tipo de Escola\"] = 0\n",
    "newDf[\"Raça\"] = 0\n",
    "newDf[\"Sexo\"] = 0\n",
    "newDf[\"Cotista\"] = 0\n",
    "newDf[\"Ingresso_unb\"] = 0"
   ]
  },
  {
   "cell_type": "code",
   "execution_count": 6,
   "metadata": {},
   "outputs": [],
   "source": [
    "df = pd.read_csv('dados_filtrados_v4.csv')\n",
    "for aluno in alunos:\n",
    "    b = df[df[\"ID Aluno\"] == aluno]\n",
    "    newDf.at[aluno, 'curso'] =  b.iloc[0]['Curso'].astype(int)\n",
    "    newDf.at[aluno, 'saiu'] =  b.iloc[0]['saiu'].astype(int)\n",
    "    newDf.at[aluno, 'Tipo de Escola'] =  b.iloc[0]['Tipo de Escola'].astype(int)\n",
    "    newDf.at[aluno, 'Raça'] =  b.iloc[0]['Raça'].astype(int)\n",
    "    newDf.at[aluno, 'Sexo'] =  b.iloc[0]['Sexo'].astype(int)\n",
    "    newDf.at[aluno, 'Cotista'] =  b.iloc[0]['Cotista'].astype(int)\n",
    "    newDf.at[aluno, 'Ingresso_unb'] =  b.iloc[0]['Período de Ingresso na Unb'].astype(int)\n",
    "    "
   ]
  },
  {
   "cell_type": "code",
   "execution_count": 7,
   "metadata": {
    "scrolled": true
   },
   "outputs": [],
   "source": [
    "columns = newDf.columns\n",
    "columns = list(columns[-7:]) + list(columns[:-7])\n",
    "newDf = newDf[columns]"
   ]
  },
  {
   "cell_type": "code",
   "execution_count": 8,
   "metadata": {},
   "outputs": [],
   "source": [
    "newDf.to_csv(\"aluno_quant_Materias.csv\")"
   ]
  },
  {
   "cell_type": "code",
   "execution_count": 9,
   "metadata": {},
   "outputs": [],
   "source": [
    "newDf = pd.read_csv('aluno_quant_Materias.csv', index_col=0)"
   ]
  },
  {
   "cell_type": "code",
   "execution_count": 10,
   "metadata": {},
   "outputs": [],
   "source": [
    "#filtra cotistas\n",
    "dfCotistas = newDf[newDf[\"Cotista\"]==1]\n",
    "dfNaoCotista = newDf[newDf[\"Cotista\"]==0]"
   ]
  },
  {
   "cell_type": "code",
   "execution_count": 11,
   "metadata": {},
   "outputs": [],
   "source": [
    "dfCotistas.to_csv(\"aluno_quant_Materias_cotistas.csv\")\n",
    "dfNaoCotista.to_csv(\"aluno_quant_Materias_nao_cotistas.csv\")"
   ]
  },
  {
   "cell_type": "code",
   "execution_count": 12,
   "metadata": {},
   "outputs": [],
   "source": [
    "dfCotistas = pd.read_csv(\"aluno_quant_Materias_cotistas.csv\", index_col=0)\n",
    "dfNaoCotista = pd.read_csv(\"aluno_quant_Materias_nao_cotistas.csv\", index_col=0)"
   ]
  },
  {
   "cell_type": "code",
   "execution_count": null,
   "metadata": {},
   "outputs": [],
   "source": [
    "for i in range(0, 6):\n",
    "    a = dfCotistas[dfCotistas[\"curso\"]== i]\n",
    "    a.to_csv(\"aluno_quant_Materias_cotistas_\" + str(i)+ \".csv\")"
   ]
  },
  {
   "cell_type": "code",
   "execution_count": null,
   "metadata": {},
   "outputs": [],
   "source": [
    "for i in range(0, 6):\n",
    "    a = dfNaoCotista[dfNaoCotista[\"curso\"]== i]\n",
    "    a.to_csv(\"aluno_quant_Materias_nao_cotistas_\" + str(i)+ \".csv\")"
   ]
  },
  {
   "cell_type": "code",
   "execution_count": null,
   "metadata": {},
   "outputs": [],
   "source": [
    "df0 = pd.read_csv(\"aluno_quant_Materias_cotistas_0.csv\", index_col=0)\n",
    "df1 = pd.read_csv(\"aluno_quant_Materias_cotistas_1.csv\", index_col=0)\n",
    "df2 = pd.read_csv(\"aluno_quant_Materias_cotistas_2.csv\", index_col=0)\n",
    "df3 = pd.read_csv(\"aluno_quant_Materias_cotistas_3.csv\", index_col=0)\n",
    "df4 = pd.read_csv(\"aluno_quant_Materias_cotistas_4.csv\", index_col=0)\n",
    "df5 = pd.read_csv(\"aluno_quant_Materias_cotistas_5.csv\", index_col=0)"
   ]
  },
  {
   "cell_type": "code",
   "execution_count": null,
   "metadata": {},
   "outputs": [],
   "source": [
    "#filtra materias\n",
    "undropableCol = [\"curso\",\"saiu\",\"Cotista\",\"Raça\",\"Sexo\",\"Tipo de Escola\"]\n",
    "dropVal = 70\n",
    "df0.drop([col for col, val in df0.sum().iteritems() if val < dropVal and col not in undropableCol], axis=1, inplace=True)\n",
    "df1.drop([col for col, val in df1.sum().iteritems() if val < dropVal and col not in undropableCol], axis=1, inplace=True)\n",
    "df2.drop([col for col, val in df2.sum().iteritems() if val < dropVal and col not in undropableCol], axis=1, inplace=True)\n",
    "df3.drop([col for col, val in df3.sum().iteritems() if val < dropVal and col not in undropableCol], axis=1, inplace=True)\n",
    "df4.drop([col for col, val in df4.sum().iteritems() if val < dropVal and col not in undropableCol], axis=1, inplace=True)\n",
    "df5.drop([col for col, val in df5.sum().iteritems() if val < dropVal and col not in undropableCol], axis=1, inplace=True)\n"
   ]
  },
  {
   "cell_type": "code",
   "execution_count": null,
   "metadata": {},
   "outputs": [],
   "source": [
    "disciplinas = list(df0.columns[6:]) #- [\"curso\",\"saiu\",\"Cotista\",\"Raça\",\"Sexo\",\"Tipo de Escola\"]\n",
    "s = pd.Series(index = disciplinas, dtype=float)\n",
    "# disciplinas"
   ]
  },
  {
   "cell_type": "code",
   "execution_count": null,
   "metadata": {},
   "outputs": [],
   "source": [
    "a = df0.sum()\n",
    "for d in disciplinas:\n",
    "#     print (type(d))\n",
    "    b  = df0[df0[str(d)]>0].count()\n",
    "    s[d] = a[str(d)]/b[0]"
   ]
  },
  {
   "cell_type": "code",
   "execution_count": null,
   "metadata": {},
   "outputs": [],
   "source": [
    "s.sort_values().plot.bar()"
   ]
  },
  {
   "cell_type": "code",
   "execution_count": null,
   "metadata": {},
   "outputs": [],
   "source": [
    "df2[\"saiu\"].value_counts()"
   ]
  },
  {
   "cell_type": "code",
   "execution_count": null,
   "metadata": {},
   "outputs": [],
   "source": [
    "a = newDf[newDf['curso']== 3]\n",
    "a[\"saiu\"].value_counts()`"
   ]
  },
  {
   "cell_type": "code",
   "execution_count": null,
   "metadata": {},
   "outputs": [],
   "source": []
  },
  {
   "cell_type": "code",
   "execution_count": null,
   "metadata": {},
   "outputs": [],
   "source": [
    "import seaborn as sns\n",
    "f = df2.corr()\n",
    "plt.figure(figsize=(16, 6))\n",
    "sns.heatmap(f, annot=True)"
   ]
  }
 ],
 "metadata": {
  "kernelspec": {
   "display_name": "Python 3",
   "language": "python",
   "name": "python3"
  },
  "language_info": {
   "codemirror_mode": {
    "name": "ipython",
    "version": 3
   },
   "file_extension": ".py",
   "mimetype": "text/x-python",
   "name": "python",
   "nbconvert_exporter": "python",
   "pygments_lexer": "ipython3",
   "version": "3.7.3"
  }
 },
 "nbformat": 4,
 "nbformat_minor": 2
}
