{
 "cells": [
  {
   "cell_type": "code",
   "execution_count": 12,
   "metadata": {
    "scrolled": true
   },
   "outputs": [],
   "source": [
    "# importa, seta configuracao, le arquivo e tira colunas 'unnamed'\n",
    "import pandas as pd\n",
    "import numpy as np\n",
    "pd.set_option('display.max_rows', 500)\n",
    "pd.set_option('display.max_columns', 500)\n",
    "pd.set_option('display.width', 1000)\n",
    "\n",
    "df = pd.read_csv('Dados_filtragem_colunas_v2.csv')\n",
    "df = df.drop(df.columns[df.columns.str.contains('unnamed',case = False)],axis = 1)"
   ]
  },
  {
   "cell_type": "code",
   "execution_count": 13,
   "metadata": {},
   "outputs": [],
   "source": [
    "from datetime import date\n",
    "def calculate_age(born, semesterDate):\n",
    "    anoPeriodo = int(str(semesterDate)[:-1])\n",
    "    numPeriodo = int(str(semesterDate)[-1:])\n",
    "    \n",
    "    \n",
    "    data = (str(anoPeriodo) + '-07-01' if numPeriodo == 1 else anoPeriodo)\n",
    "    data = (str(anoPeriodo) + '-12-01' if numPeriodo == 2 else data)\n",
    "    data = (str(anoPeriodo) + '-02-01' if numPeriodo == 0 else data)\n",
    "    \n",
    "    semester = pd.to_datetime(data)\n",
    "    born = pd.to_datetime(born)\n",
    "    return semester.year - born.year - ((semester.month, semester.day) < (born.month, born.day))"
   ]
  },
  {
   "cell_type": "code",
   "execution_count": 14,
   "metadata": {
    "scrolled": false
   },
   "outputs": [],
   "source": [
    "df['idade'] = np.vectorize(calculate_age)(df['Data de Nascimento'], df['Ano e Semestre'])"
   ]
  },
  {
   "cell_type": "code",
   "execution_count": 15,
   "metadata": {},
   "outputs": [],
   "source": [
    "df['Sexo'] = df['Sexo'].str.replace('M', '0')\n",
    "df['Sexo'] = df['Sexo'].str.replace('F', '1')\n",
    "df['Sexo'] = df['Sexo'].astype(int)\n",
    "df.columns = df.columns.str.strip()"
   ]
  },
  {
   "cell_type": "code",
   "execution_count": 16,
   "metadata": {},
   "outputs": [],
   "source": [
    "df.to_csv(\"dados_filtrados_v3.csv\", encoding='utf-8')"
   ]
  }
 ],
 "metadata": {
  "kernelspec": {
   "display_name": "Python 3",
   "language": "python",
   "name": "python3"
  },
  "language_info": {
   "codemirror_mode": {
    "name": "ipython",
    "version": 3
   },
   "file_extension": ".py",
   "mimetype": "text/x-python",
   "name": "python",
   "nbconvert_exporter": "python",
   "pygments_lexer": "ipython3",
   "version": "3.6.5"
  }
 },
 "nbformat": 4,
 "nbformat_minor": 2
}
