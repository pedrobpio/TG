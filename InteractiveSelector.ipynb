{
 "cells": [
  {
   "cell_type": "code",
   "execution_count": 1,
   "metadata": {},
   "outputs": [],
   "source": [
    "import pandas as pd\n",
    "import numpy as np\n",
    "import matplotlib.pyplot as plt\n",
    "from sklearn import preprocessing\n",
    "import seaborn as sns\n",
    "from sklearn.decomposition import PCA as sklearnPCA\n",
    "from sklearn.manifold import TSNE\n",
    "from ipywidgets import interactive, HBox, VBox\n",
    "from sklearn.cluster import KMeans\n",
    "\n",
    "pd.set_option('display.max_rows', 500)\n",
    "pd.set_option('display.max_columns', 500)\n",
    "pd.set_option('display.width', 1000)\n",
    "\n",
    "import warnings\n",
    "warnings.filterwarnings('ignore')"
   ]
  },
  {
   "cell_type": "code",
   "execution_count": 2,
   "metadata": {},
   "outputs": [
    {
     "data": {
      "text/html": [
       "<script type=\"text/javascript\">window.PlotlyConfig = {MathJaxConfig: 'local'};</script><script type=\"text/javascript\">if (window.MathJax) {MathJax.Hub.Config({SVG: {font: \"STIX-Web\"}});}</script><script>requirejs.config({paths: { 'plotly': ['https://cdn.plot.ly/plotly-latest.min']},});if(!window._Plotly) {require(['plotly'],function(plotly) {window._Plotly=plotly;});}</script>"
      ],
      "text/vnd.plotly.v1+html": [
       "<script type=\"text/javascript\">window.PlotlyConfig = {MathJaxConfig: 'local'};</script><script type=\"text/javascript\">if (window.MathJax) {MathJax.Hub.Config({SVG: {font: \"STIX-Web\"}});}</script><script>requirejs.config({paths: { 'plotly': ['https://cdn.plot.ly/plotly-latest.min']},});if(!window._Plotly) {require(['plotly'],function(plotly) {window._Plotly=plotly;});}</script>"
      ]
     },
     "metadata": {},
     "output_type": "display_data"
    }
   ],
   "source": [
    "from plotly.offline import init_notebook_mode, iplot\n",
    "import plotly.offline as py\n",
    "import plotly.graph_objs as go\n",
    "init_notebook_mode(connected=True)"
   ]
  },
  {
   "cell_type": "code",
   "execution_count": 3,
   "metadata": {},
   "outputs": [],
   "source": [
    "from sklearn.model_selection import train_test_split\n",
    "from sklearn.preprocessing import StandardScaler\n",
    "from sklearn.neighbors import KNeighborsClassifier\n",
    "from sklearn.metrics import classification_report, confusion_matrix"
   ]
  },
  {
   "cell_type": "code",
   "execution_count": 4,
   "metadata": {},
   "outputs": [],
   "source": [
    "primeiroCiC = ['116301', '118001', '118010', '113034', '140481', '145971']\n",
    "segundoCiC = ['116319', '115045', '118028', '118036', '113042']\n",
    "terceiroCiC = ['118044', '118052', '113956', '113051', '117366']\n",
    "\n",
    "\n",
    "primeiroLic1 =['116793', '117366', '145971', '147389', '194221']\n",
    "segundoLic1 = ['113034', '116301', '125156']\n",
    "terceiroLic1 = ['115045', '116319', '125172']\n",
    "\n",
    "primeiroLic2 =['113492', '194221', '113450', '113476']\n",
    "segundoLic2 = ['113034', '116319', '191027', '150649', '194280']\n",
    "terceiroLic2 = ['115045', '113093', '117366', '117889']\n",
    "\n",
    "primeiroEngComp =['113034', '113093', '113476', '117528', '118001', '118010']\n",
    "segundoEngComp = ['118028', '118036', '113042', '115045', '116319']\n",
    "terceiroEngComp =['113051', '117242', '170054', '201600', '206075']\n",
    "\n",
    "\n",
    "primeiroMec = ['114626', '114634', '118010', '113476', '113034', '118001', '168891']\n",
    "segundoMec = ['168891', '113093', '118028', '118036', '115045', '168874']\n",
    "terceiroMec = ['113051', '118044', '118052', '168769', '116319']\n",
    "\n",
    "primeiroRedes = ['113034', '113093', '118001', '118010', '167959']\n",
    "segundoRedes = ['113042', '115045', '118028', '118036', '169676']\n",
    "terceiroRedes = ['113051', '113301', '167983', '169749']\n",
    "\n",
    "\n",
    "undropableCol = [\"curso\",\"saiu\",\"Cotista\",\"Raça\",\"Sexo\",\"Tipo de Escola\"]#, 'Ingresso_unb'"
   ]
  },
  {
   "cell_type": "code",
   "execution_count": 5,
   "metadata": {},
   "outputs": [],
   "source": [
    "df0 = pd.read_csv(\"aluno_quant_Materias_Media_cotistas_0.csv\", index_col=0)\n",
    "df1 = pd.read_csv(\"aluno_quant_Materias_Media_cotistas_1.csv\", index_col=0)\n",
    "df2 = pd.read_csv(\"aluno_quant_Materias_Media_nao_cotistas_2.csv\", index_col=0)\n",
    "df3 = pd.read_csv(\"aluno_quant_Materias_Media_cotistas_3.csv\", index_col=0)\n",
    "df4 = pd.read_csv(\"aluno_quant_Materias_Media_cotistas_4.csv\", index_col=0)\n",
    "df5 = pd.read_csv(\"aluno_quant_Materias_Media_cotistas_5.csv\", index_col=0)"
   ]
  },
  {
   "cell_type": "code",
   "execution_count": 6,
   "metadata": {},
   "outputs": [],
   "source": [
    "dfComp = df0[undropableCol+primeiroLic1+segundoLic1+terceiroLic1].fillna(-1)\n",
    "dfRedes = df1[undropableCol+primeiroRedes+segundoRedes+terceiroRedes].fillna(-1)\n",
    "dfCic = df2[undropableCol+primeiroCiC+segundoCiC+terceiroCiC].fillna(-1) \n",
    "dfMec = df3[undropableCol+primeiroMec+segundoMec+terceiroMec].fillna(-1) \n",
    "dfEng = df4[undropableCol+primeiroEngComp+segundoEngComp+terceiroEngComp].fillna(-1) "
   ]
  },
  {
   "cell_type": "code",
   "execution_count": 7,
   "metadata": {},
   "outputs": [],
   "source": [
    "def Diff(li1, li2): \n",
    "    return (list(set(li1) - set(li2))) "
   ]
  },
  {
   "cell_type": "code",
   "execution_count": 8,
   "metadata": {},
   "outputs": [],
   "source": [
    "def get_cmap(n, name='hsv'):\n",
    "    '''Returns a function that maps each index in 0, 1, ..., n-1 to a distinct \n",
    "    RGB color; the keyword argument name must be a standard mpl colormap name.'''\n",
    "    return plt.cm.get_cmap(name, n)"
   ]
  },
  {
   "cell_type": "code",
   "execution_count": 72,
   "metadata": {},
   "outputs": [],
   "source": [
    "def formatColor(color):\n",
    "    return 'rgb('+str(int(color[0]*255))+','+str(int(color[1]*255))+','+str(int(color[2]*255))+')'\n",
    "\n",
    "\n",
    "    \n",
    "def tsne(df, currentLabel = 'saiu', \n",
    "         selectedCols = [\"curso\",\"saiu\",\"Cotista\",\"Raça\",\"Sexo\",\"Tipo de Escola\",\"index\"],\n",
    "        n_clusters=[5]):\n",
    "    dfcopy = df.copy()\n",
    "    originalMap = df.copy()\n",
    "    originalMap = originalMap.reset_index()\n",
    "    df = df.reset_index().drop(['index'], axis=1)\n",
    "    X = df.values\n",
    "    X_embedded = TSNE(n_components=2).fit_transform(X)\n",
    "    \n",
    "    \n",
    "\n",
    "    data = df\n",
    "    Y_sklearn = X_embedded\n",
    "    y = data[currentLabel].values\n",
    "    numColors = len(data[currentLabel].unique())\n",
    "\n",
    "    cmap = get_cmap(numColors+1)\n",
    "    colorList = [cmap(i) for i in range(1, numColors+1)]\n",
    "\n",
    "\n",
    "    traceArr = []\n",
    "    mapPoints = []\n",
    "    labelArray = data[currentLabel].unique()\n",
    "    for lab, col in zip(labelArray,\n",
    "                        colorList):\n",
    "        mapPoints.append(data[y==lab].index)\n",
    "\n",
    "        trace1 = go.Scatter(\n",
    "            x=Y_sklearn[y==lab, 0],\n",
    "            y=Y_sklearn[y==lab, 1],\n",
    "            mode='markers',\n",
    "            name = str(lab),\n",
    "            marker=dict(\n",
    "                size=5,\n",
    "                color=formatColor(col),\n",
    "                opacity=0.8\n",
    "            ),\n",
    "\n",
    "        )\n",
    "        traceArr.append(trace1)\n",
    "    f = go.FigureWidget(data=traceArr, layout=go.Layout(\n",
    "            margin=dict(\n",
    "                l=0,\n",
    "                r=0,\n",
    "                b=0,\n",
    "                t=0\n",
    "            )\n",
    "        ))\n",
    "    \n",
    "    t = go.FigureWidget([go.Table(\n",
    "    header=dict(values=selectedCols,\n",
    "                fill = dict(color='#C2D4FF'),\n",
    "                align = ['left'] * 5),\n",
    "    cells=dict(values=[originalMap[col] for col in selectedCols],\n",
    "               fill = dict(color='#F5F8FF'),\n",
    "               align = ['left'] * 5))])\n",
    "\n",
    "    \n",
    "    def getSelector(index):\n",
    "        def selection_fn(trace, points, selector):\n",
    "            \n",
    "            if (points.trace_index == 0):\n",
    "                t.data[0].cells.values = [originalMap.loc[mapPoints[index][points.point_inds]][col] for col in selectedCols]\n",
    "            else:\n",
    "                w = [originalMap.loc[mapPoints[index][points.point_inds]][col] for col in selectedCols]\n",
    "                s = t.data[0].cells.values\n",
    "                w = pd.DataFrame(w).T\n",
    "                a = pd.DataFrame([pd.Series(x) for x in list(s)]).T\n",
    "                a.columns = w.columns\n",
    "                t.data[0].cells.values = a.append(w).T\n",
    "               \n",
    "            traceArr = []    \n",
    "            if points.trace_index == len(labelArray) -1:\n",
    "                s = t.data[0].cells.values\n",
    "                a = pd.DataFrame([pd.Series(x) for x in list(s)]).T\n",
    "                a.columns = selectedCols\n",
    "                kmeans_values = dfcopy.loc[a['index']].values\n",
    "                \n",
    "                kmeans = KMeans(n_clusters=n_clusters[0], random_state=0).fit(kmeans_values)\n",
    "                \n",
    "                kmeansMap = pd.DataFrame(data= kmeans.labels_, columns=['label'])\n",
    "                kmeansMap['id'] =dfcopy.loc[a['index']].index\n",
    "                \n",
    "                pointIndex = [originalMap.index[originalMap['index']== ids ].values.tolist() for ids in kmeansMap['id']]\n",
    "                pointIndex = sum(pointIndex,[])\n",
    "                kmeansMap['points'] = pointIndex\n",
    "                \n",
    "                \n",
    "                Y_sklearn2 = Y_sklearn[pointIndex]\n",
    "                y2 = kmeansMap['label'].values\n",
    "                y3 = kmeansMap['id'].values\n",
    "                numColors = n_clusters[0]\n",
    "                \n",
    "                cmap = get_cmap(numColors+1)\n",
    "                colorList = [cmap(i) for i in range(1, numColors+1)]\n",
    "                \n",
    "                labelArray2 = list(range(n_clusters[0]))\n",
    "                \n",
    "                \n",
    "                for lab, col in zip(labelArray2,\n",
    "                        colorList):\n",
    "                    x_cord = Y_sklearn2[y2==lab, 0]\n",
    "                    y_cord = Y_sklearn2[y2==lab, 1]\n",
    "                    \n",
    "                    trace1 = go.Scatter(\n",
    "                        x=x_cord,\n",
    "                        y=y_cord,\n",
    "                        text = y3[y2==lab],\n",
    "                        hoverinfo = 'text + y + x',\n",
    "                        mode='markers',\n",
    "                        name = str(lab),\n",
    "                        marker=dict(\n",
    "                            size=5,\n",
    "                            color=formatColor(col),\n",
    "                            opacity=0.8\n",
    "                        ),\n",
    "\n",
    "                    )\n",
    "                    traceArr.append(trace1)\n",
    "                \n",
    "                g2 = go.FigureWidget(data=traceArr, layout=go.Layout(\n",
    "                        margin=dict(\n",
    "                            l=0,\n",
    "                            r=0,\n",
    "                            b=0,\n",
    "                            t=0\n",
    "                        )\n",
    "                    ))\n",
    "                \n",
    "                t2 = go.FigureWidget([go.Table(\n",
    "                    header=dict(values=dfcopy.columns,\n",
    "                                fill = dict(color='#C2D4FF'),\n",
    "                                align = ['left'] * 5),\n",
    "                    cells=dict(values=kmeans.cluster_centers_.T,\n",
    "                               fill = dict(color='#F5F8FF'),\n",
    "                               align = ['left'] * 5))])\n",
    "                \n",
    "#                 g = g2\n",
    "                display(g2)\n",
    "                display(t2)\n",
    "#             g.data[points.trace_index].x = Y_sklearn[mapPoints[index][points.point_inds], 0]\n",
    "#             g.data[points.trace_index].y = Y_sklearn[mapPoints[index][points.point_inds], 1]\n",
    "#                 print(originalMap.loc[mapPoints[index][points.point_inds]])\n",
    "        return selection_fn\n",
    "        \n",
    "    for ind, el in enumerate(f.data):\n",
    "        el.on_selection(getSelector(ind))\n",
    "        \n",
    "    def updateKmeans(N_clusters):\n",
    "        n_clusters[0] = N_clusters\n",
    "    slider = interactive(updateKmeans, N_clusters=(1, 8, 1))\n",
    "    display(VBox((slider,f,t)))\n",
    "    return f, g"
   ]
  },
  {
   "cell_type": "code",
   "execution_count": 74,
   "metadata": {
    "scrolled": false
   },
   "outputs": [
    {
     "data": {
      "application/vnd.jupyter.widget-view+json": {
       "model_id": "de4b8bdf5eb64522b5524b2b93c4cf13",
       "version_major": 2,
       "version_minor": 0
      },
      "text/plain": [
       "VBox(children=(interactive(children=(IntSlider(value=4, description='N_clusters', max=8, min=1), Output()), _d…"
      ]
     },
     "metadata": {},
     "output_type": "display_data"
    },
    {
     "data": {
      "application/vnd.jupyter.widget-view+json": {
       "model_id": "b306f23225b74e9996d7f5b233ab6340",
       "version_major": 2,
       "version_minor": 0
      },
      "text/plain": [
       "FigureWidget({\n",
       "    'data': [{'hoverinfo': 'text+y+x',\n",
       "              'marker': {'color': 'rgb(133,255,0)', 'opa…"
      ]
     },
     "metadata": {},
     "output_type": "display_data"
    },
    {
     "data": {
      "application/vnd.jupyter.widget-view+json": {
       "model_id": "444f6f86d83047c48d984c410002649e",
       "version_major": 2,
       "version_minor": 0
      },
      "text/plain": [
       "FigureWidget({\n",
       "    'data': [{'cells': {'align': [left, left, left, left, left],\n",
       "                        'fill'…"
      ]
     },
     "metadata": {},
     "output_type": "display_data"
    }
   ],
   "source": [
    "f, g = tsne(dfCic.copy())"
   ]
  }
 ],
 "metadata": {
  "kernelspec": {
   "display_name": "Python 3",
   "language": "python",
   "name": "python3"
  },
  "language_info": {
   "codemirror_mode": {
    "name": "ipython",
    "version": 3
   },
   "file_extension": ".py",
   "mimetype": "text/x-python",
   "name": "python",
   "nbconvert_exporter": "python",
   "pygments_lexer": "ipython3",
   "version": "3.7.3"
  }
 },
 "nbformat": 4,
 "nbformat_minor": 2
}
