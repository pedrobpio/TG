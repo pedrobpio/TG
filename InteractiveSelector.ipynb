{
 "cells": [
  {
   "cell_type": "code",
   "execution_count": 1,
   "metadata": {},
   "outputs": [],
   "source": [
    "import pandas as pd\n",
    "import numpy as np\n",
    "import matplotlib.pyplot as plt\n",
    "from sklearn import preprocessing\n",
    "import seaborn as sns\n",
    "from sklearn.decomposition import PCA as sklearnPCA\n",
    "from sklearn.manifold import TSNE\n",
    "from ipywidgets import interactive, HBox, VBox\n",
    "\n",
    "pd.set_option('display.max_rows', 500)\n",
    "pd.set_option('display.max_columns', 500)\n",
    "pd.set_option('display.width', 1000)\n",
    "\n",
    "import warnings\n",
    "warnings.filterwarnings('ignore')"
   ]
  },
  {
   "cell_type": "code",
   "execution_count": 2,
   "metadata": {},
   "outputs": [
    {
     "data": {
      "text/html": [
       "<script type=\"text/javascript\">window.PlotlyConfig = {MathJaxConfig: 'local'};</script><script type=\"text/javascript\">if (window.MathJax) {MathJax.Hub.Config({SVG: {font: \"STIX-Web\"}});}</script><script>requirejs.config({paths: { 'plotly': ['https://cdn.plot.ly/plotly-latest.min']},});if(!window._Plotly) {require(['plotly'],function(plotly) {window._Plotly=plotly;});}</script>"
      ],
      "text/vnd.plotly.v1+html": [
       "<script type=\"text/javascript\">window.PlotlyConfig = {MathJaxConfig: 'local'};</script><script type=\"text/javascript\">if (window.MathJax) {MathJax.Hub.Config({SVG: {font: \"STIX-Web\"}});}</script><script>requirejs.config({paths: { 'plotly': ['https://cdn.plot.ly/plotly-latest.min']},});if(!window._Plotly) {require(['plotly'],function(plotly) {window._Plotly=plotly;});}</script>"
      ]
     },
     "metadata": {},
     "output_type": "display_data"
    }
   ],
   "source": [
    "from plotly.offline import init_notebook_mode, iplot\n",
    "import plotly.offline as py\n",
    "import plotly.graph_objs as go\n",
    "init_notebook_mode(connected=True)"
   ]
  },
  {
   "cell_type": "code",
   "execution_count": 3,
   "metadata": {},
   "outputs": [],
   "source": [
    "from sklearn.model_selection import train_test_split\n",
    "from sklearn.preprocessing import StandardScaler\n",
    "from sklearn.neighbors import KNeighborsClassifier\n",
    "from sklearn.metrics import classification_report, confusion_matrix"
   ]
  },
  {
   "cell_type": "code",
   "execution_count": 4,
   "metadata": {},
   "outputs": [],
   "source": [
    "primeiroCiC = ['116301', '118001', '118010', '113034', '140481', '145971']\n",
    "segundoCiC = ['116319', '115045', '118028', '118036', '113042']\n",
    "terceiroCiC = ['118044', '118052', '113956', '113051', '117366']\n",
    "\n",
    "\n",
    "primeiroLic1 =['116793', '117366', '145971', '147389', '194221']\n",
    "segundoLic1 = ['113034', '116301', '125156']\n",
    "terceiroLic1 = ['115045', '116319', '125172']\n",
    "\n",
    "primeiroLic2 =['113492', '194221', '113450', '113476']\n",
    "segundoLic2 = ['113034', '116319', '191027', '150649', '194280']\n",
    "terceiroLic2 = ['115045', '113093', '117366', '117889']\n",
    "\n",
    "primeiroEngComp =['113034', '113093', '113476', '117528', '118001', '118010']\n",
    "segundoEngComp = ['118028', '118036', '113042', '115045', '116319']\n",
    "terceiroEngComp =['113051', '117242', '170054', '201600', '206075']\n",
    "\n",
    "\n",
    "primeiroMec = ['114626', '114634', '118010', '113476', '113034', '118001', '168891']\n",
    "segundoMec = ['168891', '113093', '118028', '118036', '115045', '168874']\n",
    "terceiroMec = ['113051', '118044', '118052', '168769', '116319']\n",
    "\n",
    "primeiroRedes = ['113034', '113093', '118001', '118010', '167959']\n",
    "segundoRedes = ['113042', '115045', '118028', '118036', '169676']\n",
    "terceiroRedes = ['113051', '113301', '167983', '169749']\n",
    "\n",
    "\n",
    "undropableCol = [\"curso\",\"saiu\",\"Cotista\",\"Raça\",\"Sexo\",\"Tipo de Escola\"]#, 'Ingresso_unb'"
   ]
  },
  {
   "cell_type": "code",
   "execution_count": 5,
   "metadata": {},
   "outputs": [],
   "source": [
    "df0 = pd.read_csv(\"aluno_quant_Materias_Media_cotistas_0.csv\", index_col=0)\n",
    "df1 = pd.read_csv(\"aluno_quant_Materias_Media_cotistas_1.csv\", index_col=0)\n",
    "df2 = pd.read_csv(\"aluno_quant_Materias_Media_nao_cotistas_2.csv\", index_col=0)\n",
    "df3 = pd.read_csv(\"aluno_quant_Materias_Media_cotistas_3.csv\", index_col=0)\n",
    "df4 = pd.read_csv(\"aluno_quant_Materias_Media_cotistas_4.csv\", index_col=0)\n",
    "df5 = pd.read_csv(\"aluno_quant_Materias_Media_cotistas_5.csv\", index_col=0)"
   ]
  },
  {
   "cell_type": "code",
   "execution_count": 6,
   "metadata": {},
   "outputs": [],
   "source": [
    "dfComp = df0[undropableCol+primeiroLic1+segundoLic1+terceiroLic1].fillna(-1)\n",
    "dfRedes = df1[undropableCol+primeiroRedes+segundoRedes+terceiroRedes].fillna(-1)\n",
    "dfCic = df2[undropableCol+primeiroCiC+segundoCiC+terceiroCiC].fillna(-1) \n",
    "dfMec = df3[undropableCol+primeiroMec+segundoMec+terceiroMec].fillna(-1) \n",
    "dfEng = df4[undropableCol+primeiroEngComp+segundoEngComp+terceiroEngComp].fillna(-1) "
   ]
  },
  {
   "cell_type": "code",
   "execution_count": null,
   "metadata": {},
   "outputs": [],
   "source": [
    "def Diff(li1, li2): \n",
    "    return (list(set(li1) - set(li2))) "
   ]
  },
  {
   "cell_type": "code",
   "execution_count": 7,
   "metadata": {},
   "outputs": [],
   "source": [
    "def get_cmap(n, name='hsv'):\n",
    "    '''Returns a function that maps each index in 0, 1, ..., n-1 to a distinct \n",
    "    RGB color; the keyword argument name must be a standard mpl colormap name.'''\n",
    "    return plt.cm.get_cmap(name, n)"
   ]
  },
  {
   "cell_type": "code",
   "execution_count": 98,
   "metadata": {},
   "outputs": [],
   "source": [
    "def formatColor(color):\n",
    "    return 'rgb('+str(int(color[0]*255))+','+str(int(color[1]*255))+','+str(int(color[2]*255))+')'\n",
    "\n",
    "\n",
    "    \n",
    "def tsne(df, currentLabel = 'saiu', \n",
    "         selectedCols = [\"curso\",\"saiu\",\"Cotista\",\"Raça\",\"Sexo\",\"Tipo de Escola\",\"index\"]):\n",
    "    dfcopy = df.copy()\n",
    "    originalMap = df.copy()\n",
    "    originalMap = originalMap.reset_index()\n",
    "    df = df.reset_index().drop(['index'], axis=1)\n",
    "    X = df.values\n",
    "    X_embedded = TSNE(n_components=2).fit_transform(X)\n",
    "\n",
    "\n",
    "    data = df\n",
    "    Y_sklearn = X_embedded\n",
    "    y = data[currentLabel].values\n",
    "    numColors = len(data[currentLabel].unique())\n",
    "\n",
    "    cmap = get_cmap(numColors+1)\n",
    "    colorList = [cmap(i) for i in range(1, numColors+1)]\n",
    "\n",
    "\n",
    "    traceArr = []\n",
    "    mapPoints = []\n",
    "    labelArray = data[currentLabel].unique()\n",
    "    for lab, col in zip(labelArray,\n",
    "                        colorList):\n",
    "        mapPoints.append(data[y==lab].index)\n",
    "\n",
    "        trace1 = go.Scatter(\n",
    "            x=Y_sklearn[y==lab, 0],\n",
    "            y=Y_sklearn[y==lab, 1],\n",
    "            mode='markers',\n",
    "            name = str(lab),\n",
    "            marker=dict(\n",
    "                size=5,\n",
    "                color=formatColor(col),\n",
    "                opacity=0.8\n",
    "            ),\n",
    "\n",
    "        )\n",
    "        traceArr.append(trace1)\n",
    "    f = go.FigureWidget(data=traceArr, layout=go.Layout(\n",
    "            margin=dict(\n",
    "                l=0,\n",
    "                r=0,\n",
    "                b=0,\n",
    "                t=0\n",
    "            )\n",
    "        ))\n",
    "    g = go.FigureWidget(data=traceArr, layout=go.Layout(\n",
    "            margin=dict(\n",
    "                l=0,\n",
    "                r=0,\n",
    "                b=0,\n",
    "                t=0\n",
    "            )\n",
    "        ))\n",
    "    t = go.FigureWidget([go.Table(\n",
    "    header=dict(values=selectedCols,\n",
    "                fill = dict(color='#C2D4FF'),\n",
    "                align = ['left'] * 5),\n",
    "    cells=dict(values=[originalMap[col] for col in selectedCols],\n",
    "               fill = dict(color='#F5F8FF'),\n",
    "               align = ['left'] * 5))])\n",
    "\n",
    "    \n",
    "    def getSelector(index):\n",
    "        def selection_fn(trace, points, selector):\n",
    "            \n",
    "            if (points.trace_index == 0):\n",
    "                t.data[0].cells.values = [originalMap.loc[mapPoints[index][points.point_inds]][col] for col in selectedCols]\n",
    "            else:\n",
    "                w = [originalMap.loc[mapPoints[index][points.point_inds]][col] for col in selectedCols]\n",
    "                s = t.data[0].cells.values\n",
    "                w = pd.DataFrame(w).T\n",
    "                a = pd.DataFrame([pd.Series(x) for x in list(s)]).T\n",
    "                a.columns = w.columns\n",
    "                t.data[0].cells.values = a.append(w).T\n",
    "               \n",
    "                tracea = []\n",
    "            if points.trace_index == len(labelArray) -1:\n",
    "                s = t.data[0].cells.values\n",
    "                a = pd.DataFrame([pd.Series(x) for x in list(s)]).T\n",
    "                a.columns = selectedCols\n",
    "                print(dfcopy.loc[a['index']])\n",
    "           \n",
    "#             g.data[points.trace_index].x = Y_sklearn[mapPoints[index][points.point_inds], 0]\n",
    "#             g.data[points.trace_index].y = Y_sklearn[mapPoints[index][points.point_inds], 1]\n",
    "#             print(originalMap.loc[mapPoints[index][points.point_inds]])\n",
    "                \n",
    "        return selection_fn\n",
    "        \n",
    "    for ind, el in enumerate(f.data):\n",
    "        el.on_selection(getSelector(ind))\n",
    "    \n",
    "    display(VBox((f,t, g)))\n",
    "    return f, g"
   ]
  },
  {
   "cell_type": "code",
   "execution_count": null,
   "metadata": {
    "scrolled": false
   },
   "outputs": [],
   "source": [
    "f, g = tsne(dfCic.copy())"
   ]
  },
  {
   "cell_type": "code",
   "execution_count": 75,
   "metadata": {},
   "outputs": [
    {
     "name": "stdout",
     "output_type": "stream",
     "text": [
      "FigureWidget({\n",
      "    'data': [{'marker': {'color': 'rgb(7,255,0)', 'opacity': 0.8, 'size': 5},\n",
      "              'mode': 'markers',\n",
      "              'name': '-1',\n",
      "              'type': 'scatter',\n",
      "              'uid': '5dcea0ed-74fd-4d6d-a503-ca8b456d9237',\n",
      "              'x': array([ -3.4275608,   3.0792625, -11.152638 , ...,   3.1854858, -18.361477 ,\n",
      "                            3.01155  ], dtype=float32),\n",
      "              'y': array([-56.024204, -40.19306 , -55.436867, ..., -35.568985, -32.35098 ,\n",
      "                          -32.990334], dtype=float32)},\n",
      "             {'marker': {'color': 'rgb(0,15,255)', 'opacity': 0.8, 'size': 5},\n",
      "              'mode': 'markers',\n",
      "              'name': '1',\n",
      "              'type': 'scatter',\n",
      "              'uid': '9d480c34-16eb-429f-827a-78b1c1a8d492',\n",
      "              'x': array([ 38.15978  ,  44.848576 , -24.27934  , ..., -18.139254 ,  27.993645 ,\n",
      "                           -7.6955476], dtype=float32),\n",
      "              'y': array([ 20.578163,  29.323584,  21.252844, ..., -32.38984 ,   9.998655,\n",
      "                          -15.629918], dtype=float32)},\n",
      "             {'marker': {'color': 'rgb(255,0,23)', 'opacity': 0.8, 'size': 5},\n",
      "              'mode': 'markers',\n",
      "              'name': '0',\n",
      "              'type': 'scatter',\n",
      "              'uid': '3b2524ed-67c2-41e9-9828-7d3e02a57aff',\n",
      "              'x': array([ -7.076155 ,  -2.946413 , -25.038214 , ...,  -2.7396958,  -7.8836865,\n",
      "                           -7.3067665], dtype=float32),\n",
      "              'y': array([  0.20731781,  -0.56906134,  26.428408  , ..., -15.128377  ,\n",
      "                          -13.631026  ,   0.44701025], dtype=float32)}],\n",
      "    'layout': {'autosize': True, 'margin': {'b': 0, 'l': 0, 'r': 0, 't': 0}}\n",
      "})\n"
     ]
    }
   ],
   "source": [
    "print(g)"
   ]
  }
 ],
 "metadata": {
  "kernelspec": {
   "display_name": "Python 3",
   "language": "python",
   "name": "python3"
  },
  "language_info": {
   "codemirror_mode": {
    "name": "ipython",
    "version": 3
   },
   "file_extension": ".py",
   "mimetype": "text/x-python",
   "name": "python",
   "nbconvert_exporter": "python",
   "pygments_lexer": "ipython3",
   "version": "3.7.1"
  }
 },
 "nbformat": 4,
 "nbformat_minor": 2
}
