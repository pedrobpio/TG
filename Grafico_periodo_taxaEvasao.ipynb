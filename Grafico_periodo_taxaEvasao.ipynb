{
 "cells": [
  {
   "cell_type": "code",
   "execution_count": 1,
   "metadata": {},
   "outputs": [],
   "source": [
    "# importa, seta configuracao, le arquivo e tira colunas 'unnamed'\n",
    "import pandas as pd\n",
    "import numpy as np\n",
    "import matplotlib.pyplot as plt\n",
    "from sklearn import preprocessing\n",
    "\n",
    "pd.set_option('display.max_rows', 500)\n",
    "pd.set_option('display.max_columns', 500)\n",
    "pd.set_option('display.width', 1000)\n",
    "\n",
    "df = pd.read_csv('dados_filtrados_v4.csv')"
   ]
  },
  {
   "cell_type": "code",
   "execution_count": 2,
   "metadata": {},
   "outputs": [],
   "source": [
    "float_formatter = lambda x: \"%.6f\" % x\n",
    "np.set_printoptions(formatter={'float_kind':float_formatter})"
   ]
  },
  {
   "cell_type": "code",
   "execution_count": 3,
   "metadata": {
    "scrolled": true
   },
   "outputs": [
    {
     "name": "stdout",
     "output_type": "stream",
     "text": [
      "[[-0.500000 3.000000 3.000000]\n",
      " [0.000000 461.000000 7480.000000]\n",
      " [0.500000 2.000000 305.000000]\n",
      " [1.000000 391.000000 6602.000000]\n",
      " [1.500000 1.000000 251.000000]\n",
      " [2.000000 504.000000 5904.000000]\n",
      " [2.500000 1.000000 232.000000]\n",
      " [3.000000 386.000000 5145.000000]\n",
      " [3.500000 1.000000 210.000000]\n",
      " [4.000000 309.000000 4588.000000]\n",
      " [4.500000 1.000000 180.000000]\n",
      " [5.000000 240.000000 4083.000000]\n",
      " [5.500000 1.000000 164.000000]\n",
      " [6.000000 197.000000 3640.000000]\n",
      " [6.500000 1.000000 216.000000]\n",
      " [7.000000 143.000000 3257.000000]\n",
      " [7.500000 2.000000 202.000000]\n",
      " [8.000000 105.000000 2946.000000]\n",
      " [8.500000 2.000000 192.000000]\n",
      " [9.000000 95.000000 2632.000000]\n",
      " [9.500000 1.000000 122.000000]\n",
      " [10.000000 61.000000 1691.000000]\n",
      " [10.500000 1.000000 77.000000]\n",
      " [11.000000 51.000000 1189.000000]\n",
      " [11.500000 1.000000 56.000000]\n",
      " [12.000000 41.000000 734.000000]\n",
      " [12.500000 1.000000 34.000000]\n",
      " [13.000000 27.000000 450.000000]\n",
      " [13.500000 0.000000 13.000000]\n",
      " [14.000000 16.000000 263.000000]\n",
      " [14.500000 0.000000 8.000000]\n",
      " [15.000000 19.000000 177.000000]\n",
      " [15.500000 0.000000 6.000000]\n",
      " [16.000000 10.000000 103.000000]\n",
      " [16.500000 1.000000 3.000000]\n",
      " [17.000000 13.000000 70.000000]\n",
      " [17.500000 0.000000 2.000000]\n",
      " [18.000000 5.000000 34.000000]\n",
      " [19.000000 2.000000 20.000000]\n",
      " [20.000000 1.000000 11.000000]\n",
      " [20.500000 0.000000 1.000000]\n",
      " [21.000000 4.000000 8.000000]\n",
      " [22.000000 0.000000 4.000000]\n",
      " [23.000000 1.000000 4.000000]\n",
      " [24.000000 2.000000 2.000000]]\n"
     ]
    }
   ],
   "source": [
    "alunos = df[\"ID Aluno\"].unique()\n",
    "semestres = df['semestre'].unique()\n",
    "semestres.sort()\n",
    "c = np.zeros((len(semestres), 3))\n",
    "for i, semestre in enumerate(semestres):\n",
    "    c[i] = np.array([semestre, 0, 0])\n",
    "for aluno in alunos:\n",
    "    b = df[df[\"ID Aluno\"]==aluno]\n",
    "    semesterList = b[\"semestre\"].unique()\n",
    "    for semester in semesterList:\n",
    "        c[np.argwhere(c[:,0] == semester), 2] +=1\n",
    "    a = b.iloc[0]\n",
    "    if a[\"saiu\"] == 1:\n",
    "        d = b[\"semestre\"].max()\n",
    "#         print(d)\n",
    "        \n",
    "        c[np.argwhere(c[:,0] == d), 1] +=1\n",
    "print(c)"
   ]
  },
  {
   "cell_type": "code",
   "execution_count": 40,
   "metadata": {},
   "outputs": [
    {
     "data": {
      "image/png": "[encoded data removed]",
      "text/plain": [
       "<Figure size 432x288 with 1 Axes>"
      ]
     },
     "metadata": {
      "needs_background": "light"
     },
     "output_type": "display_data"
    }
   ],
   "source": [
    "plt.bar(c[:,0], c[:,1]/c[:,2] )\n",
    "plt.show()"
   ]
  }
 ],
 "metadata": {
  "kernelspec": {
   "display_name": "Python 3",
   "language": "python",
   "name": "python3"
  },
  "language_info": {
   "codemirror_mode": {
    "name": "ipython",
    "version": 3
   },
   "file_extension": ".py",
   "mimetype": "text/x-python",
   "name": "python",
   "nbconvert_exporter": "python",
   "pygments_lexer": "ipython3",
   "version": "3.6.7"
  }
 },
 "nbformat": 4,
 "nbformat_minor": 2
}
