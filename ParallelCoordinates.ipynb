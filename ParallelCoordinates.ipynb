{
 "cells": [
  {
   "cell_type": "code",
   "execution_count": null,
   "metadata": {},
   "outputs": [],
   "source": [
    "import pandas as pd\n",
    "import matplotlib.pyplot as plt\n",
    "from pandas.tools.plotting import parallel_coordinates\n",
    "%matplotlib notebook\n",
    "plt.rcParams['figure.figsize'] = [70, 15]\n",
    "plt.rcParams.update({'font.size': 5})\n",
    "\n",
    "\n",
    "df.columns = df.columns.str.strip()\n",
    "# df1 = df.head(10000)\n",
    "df1 = df[df['Código da disciplina']==113034]\n",
    "df1 = df1[df1['Curso_Ciência da Computação'] == 1]\n",
    "df1 = df1[df1['Ano e Semestre'] >= 20112]\n",
    "# df1 = df1[df1['Curso_Ciência da Computação'] ==1]\n",
    "df2 = df1[df1['Cotista'] == 0]\n",
    "# df1 = df1[df1['Cotista'] == 1]\n",
    "data = pd.read_csv(\"iris.csv\");\n",
    "#data = pandas.read_csv(r'C:\\Python27\\Lib\\site-packages\\pandas\\tests\\data\\iris.csv', sep=',')\n",
    "data2 = data[['sepal_length','sepal_width','petal_length','petal_width','species']]\n",
    "# data2 = df1[['Cotista', 'Menção na disciplina', 'Média do período','Créditos cursados no semestre(com aprovação)', 'Créditos disciplina']]\n",
    "data2 = df1[df1.columns.difference(['Sexo','Data de Nascimento', 'Período de Ingresso na Unb', \n",
    "                                    'Período de saída da opção', 'Ano e Semestre', 'Créditos cursados no total', \n",
    "                                    'Código da disciplina', 'ID Aluno', 'Unnamed: 0'])]\n",
    "data3 = df2[['Cotista', 'Menção na disciplina', 'Média do período']]\n",
    "# print(data2)\n",
    "parallel_coordinates(data2, 'Cotista',color=['g','r','b'])\n",
    "plt.xlabel(\"Each Component of X is Shown on its Own Vertical Axis\")\n",
    "plt.ylabel(\"Values\")\n",
    "plt.title(\"Finding the Optimal Value of X cotista1\")\n",
    "plt.show()\n",
    "\n",
    "# parallel_coordinates(data3, 'Cotista',color=['r','r','b'])\n",
    "# plt.xlabel(\"Each Component of X is Shown on its Own Vertical Axis\")\n",
    "# plt.ylabel(\"Values\")\n",
    "# plt.title(\"Finding the Optimal Value of X cotista 0\")\n",
    "# plt.show()"
   ]
  }
 ],
 "metadata": {
  "kernelspec": {
   "display_name": "Python 3",
   "language": "python",
   "name": "python3"
  },
  "language_info": {
   "codemirror_mode": {
    "name": "ipython",
    "version": 3
   },
   "file_extension": ".py",
   "mimetype": "text/x-python",
   "name": "python",
   "nbconvert_exporter": "python",
   "pygments_lexer": "ipython3",
   "version": "3.6.6"
  }
 },
 "nbformat": 4,
 "nbformat_minor": 2
}
