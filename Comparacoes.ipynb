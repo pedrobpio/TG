{
 "cells": [
  {
   "cell_type": "code",
   "execution_count": 1,
   "metadata": {},
   "outputs": [],
   "source": [
    "# importa, seta configuracao, le arquivo e tira colunas 'unnamed'\n",
    "import pandas as pd\n",
    "import numpy as np\n",
    "import matplotlib.pyplot as plt\n",
    "from sklearn import preprocessing\n",
    "import seaborn as sns\n",
    "\n",
    "pd.set_option('display.max_rows', 500)\n",
    "pd.set_option('display.max_columns', 500)\n",
    "pd.set_option('display.width', 1000)"
   ]
  },
  {
   "cell_type": "code",
   "execution_count": 52,
   "metadata": {},
   "outputs": [
    {
     "data": {
      "text/html": [
       "<script type=\"text/javascript\">window.PlotlyConfig = {MathJaxConfig: 'local'};</script><script type=\"text/javascript\">if (window.MathJax) {MathJax.Hub.Config({SVG: {font: \"STIX-Web\"}});}</script><script>requirejs.config({paths: { 'plotly': ['https://cdn.plot.ly/plotly-latest.min']},});if(!window._Plotly) {require(['plotly'],function(plotly) {window._Plotly=plotly;});}</script>"
      ],
      "text/vnd.plotly.v1+html": [
       "<script type=\"text/javascript\">window.PlotlyConfig = {MathJaxConfig: 'local'};</script><script type=\"text/javascript\">if (window.MathJax) {MathJax.Hub.Config({SVG: {font: \"STIX-Web\"}});}</script><script>requirejs.config({paths: { 'plotly': ['https://cdn.plot.ly/plotly-latest.min']},});if(!window._Plotly) {require(['plotly'],function(plotly) {window._Plotly=plotly;});}</script>"
      ]
     },
     "metadata": {},
     "output_type": "display_data"
    }
   ],
   "source": [
    "from plotly.offline import init_notebook_mode, iplot\n",
    "import plotly.offline as py\n",
    "import plotly.graph_objs as go\n",
    "init_notebook_mode(connected=True)"
   ]
  },
  {
   "cell_type": "code",
   "execution_count": 2,
   "metadata": {},
   "outputs": [],
   "source": [
    "dfc = pd.read_csv(\"aluno_quant_Materias_cotistas.csv\", index_col=0)\n",
    "dfn = pd.read_csv(\"aluno_quant_Materias_nao_cotistas.csv\", index_col=0)"
   ]
  },
  {
   "cell_type": "code",
   "execution_count": 4,
   "metadata": {},
   "outputs": [],
   "source": [
    "undropableCol = [\"curso\",\"saiu\",\"Cotista\",\"Raça\",\"Sexo\",\"Tipo de Escola\",\"Ingresso_unb\"]\n",
    "dropVal = 1\n",
    "dropValAll = 30\n",
    "dfc.drop([col for col, val in dfc.sum().iteritems() if val < dropValAll and col not in undropableCol], axis=1, inplace=True)\n",
    "dfn.drop([col for col, val in dfn.sum().iteritems() if val < dropValAll and col not in undropableCol], axis=1, inplace=True)\n"
   ]
  },
  {
   "cell_type": "code",
   "execution_count": 9,
   "metadata": {},
   "outputs": [
    {
     "name": "stderr",
     "output_type": "stream",
     "text": [
      "/usr/local/lib/python3.6/dist-packages/ipykernel_launcher.py:9: RuntimeWarning: invalid value encountered in long_scalars\n",
      "  if __name__ == '__main__':\n"
     ]
    }
   ],
   "source": [
    "disciplinas = list(dfc.columns[7:]) #- [\"curso\",\"saiu\",\"Cotista\",\"Raça\",\"Sexo\",\"Tipo de Escola\"]\n",
    "sc = pd.Series(index = disciplinas, dtype=float)\n",
    "# disciplinas\n",
    "dfc = dfc[dfc[\"Ingresso_unb\"] > 20131]\n",
    "a = dfc.sum()\n",
    "for d in disciplinas:\n",
    "#     print (type(d))\n",
    "    b  = dfc[dfc[str(d)]>0].count()\n",
    "    sc[d] = a[str(d)]/b[0]"
   ]
  },
  {
   "cell_type": "code",
   "execution_count": 12,
   "metadata": {},
   "outputs": [
    {
     "name": "stderr",
     "output_type": "stream",
     "text": [
      "/usr/local/lib/python3.6/dist-packages/ipykernel_launcher.py:9: RuntimeWarning: invalid value encountered in long_scalars\n",
      "  if __name__ == '__main__':\n"
     ]
    }
   ],
   "source": [
    "disciplinas = list(dfn.columns[7:]) #- [\"curso\",\"saiu\",\"Cotista\",\"Raça\",\"Sexo\",\"Tipo de Escola\"]\n",
    "sn = pd.Series(index = disciplinas, dtype=float)\n",
    "# disciplinas\n",
    "dfn = dfn[dfn[\"Ingresso_unb\"] > 20131]\n",
    "a = dfn.sum()\n",
    "for d in disciplinas:\n",
    "#     print (type(d))\n",
    "    b  = dfn[dfn[str(d)]>0].count()\n",
    "    sn[d] = a[str(d)]/b[0]"
   ]
  },
  {
   "cell_type": "code",
   "execution_count": 13,
   "metadata": {},
   "outputs": [
    {
     "data": {
      "text/plain": [
       "<matplotlib.axes._subplots.AxesSubplot at 0x7f65d5c80c88>"
      ]
     },
     "execution_count": 13,
     "metadata": {},
     "output_type": "execute_result"
    },
    {
     "data": {
      "image/png": "[encoded data removed]",
      "text/plain": [
       "<Figure size 1152x432 with 1 Axes>"
      ]
     },
     "metadata": {
      "needs_background": "light"
     },
     "output_type": "display_data"
    }
   ],
   "source": [
    "sn[sn>1.3].sort_values().plot.bar(figsize=(16, 6))"
   ]
  },
  {
   "cell_type": "code",
   "execution_count": 11,
   "metadata": {},
   "outputs": [
    {
     "data": {
      "text/plain": [
       "<matplotlib.axes._subplots.AxesSubplot at 0x7f65d5e4c8d0>"
      ]
     },
     "execution_count": 11,
     "metadata": {},
     "output_type": "execute_result"
    },
    {
     "data": {
      "image/png": "[encoded data removed]",
      "text/plain": [
       "<Figure size 1152x432 with 1 Axes>"
      ]
     },
     "metadata": {
      "needs_background": "light"
     },
     "output_type": "display_data"
    }
   ],
   "source": [
    "sc[sc>1.3].sort_values().plot.bar(figsize=(16, 6))"
   ]
  },
  {
   "cell_type": "code",
   "execution_count": 17,
   "metadata": {},
   "outputs": [],
   "source": [
    "##############################################      evasão        ##################################################\n",
    "####################################################################################################################\n",
    "dfEvavao = pd.read_csv('dados_filtrados_v4.csv')\n",
    "dfEvasao_cotista = dfEvavao[dfEvavao['Cotista'] == 1]\n",
    "dfEvasao_nao_cotista = dfEvavao[dfEvavao['Cotista'] == 0]"
   ]
  },
  {
   "cell_type": "code",
   "execution_count": 43,
   "metadata": {},
   "outputs": [],
   "source": [
    "def displayEvasao(df):\n",
    "    alunos = df[\"ID Aluno\"].unique()\n",
    "    semestres = df['semestre'].unique()\n",
    "    semestres.sort()\n",
    "    c = np.zeros((len(semestres), 3))\n",
    "    for i, semestre in enumerate(semestres):\n",
    "        c[i] = np.array([semestre, 0, 0])\n",
    "    for aluno in alunos:\n",
    "        b = df[df[\"ID Aluno\"]==aluno]\n",
    "        semesterList = b[\"semestre\"].unique()\n",
    "        for semester in semesterList:\n",
    "            c[np.argwhere(c[:,0] == semester), 2] +=1\n",
    "        a = b.iloc[0]\n",
    "        if a[\"saiu\"] == 1:\n",
    "            d = b[\"semestre\"].max()        \n",
    "            c[np.argwhere(c[:,0] == d), 1] +=1\n",
    "    dataFrame = pd.DataFrame(data={'total': c[:,2], 'desistiu': c[:,1], 'semestre': c[:,0]})\n",
    "    return dataFrame"
   ]
  },
  {
   "cell_type": "code",
   "execution_count": 55,
   "metadata": {},
   "outputs": [],
   "source": [
    "frameNaoCotista = displayEvasao(dfEvasao_nao_cotista)\n",
    "frameCotista = displayEvasao(dfEvasao_cotista)"
   ]
  },
  {
   "cell_type": "code",
   "execution_count": 54,
   "metadata": {},
   "outputs": [],
   "source": [
    "result = frameNaoCotista['desistiu'] / frameNaoCotista['total']\n",
    "dataCotista = [\n",
    "    go.Bar(\n",
    "        x = frameNaoCotista['semestre'],\n",
    "        y = result\n",
    "    )\n",
    "]\n",
    "iplot(dataCotista)"
   ]
  },
  {
   "cell_type": "code",
   "execution_count": null,
   "metadata": {},
   "outputs": [],
   "source": []
  }
 ],
 "metadata": {
  "kernelspec": {
   "display_name": "Python 3",
   "language": "python",
   "name": "python3"
  },
  "language_info": {
   "codemirror_mode": {
    "name": "ipython",
    "version": 3
   },
   "file_extension": ".py",
   "mimetype": "text/x-python",
   "name": "python",
   "nbconvert_exporter": "python",
   "pygments_lexer": "ipython3",
   "version": "3.6.7"
  }
 },
 "nbformat": 4,
 "nbformat_minor": 2
}
